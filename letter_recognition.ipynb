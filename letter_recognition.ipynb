{
 "cells": [
  {
   "cell_type": "markdown",
   "metadata": {},
   "source": [
    "## Handwritten Image Classification \n",
    "\n"
   ]
  },
  {
   "cell_type": "code",
   "execution_count": 24,
   "metadata": {},
   "outputs": [],
   "source": [
    "# imports for the day\n",
    "import numpy as np\n",
    "import matplotlib.pyplot as plt\n",
    "from sklearn.model_selection import GridSearchCV\n",
    "from sklearn.neighbors import KNeighborsClassifier\n",
    "from sklearn.metrics import classification_report\n",
    "from sklearn.metrics import confusion_matrix\n",
    "from sklearn.svm import SVC\n",
    "from sklearn.datasets import load_digits\n",
    "from sklearn.datasets import fetch_lfw_people\n",
    "import time\n",
    "from mpl_toolkits.mplot3d import Axes3D\n",
    "from sklearn.model_selection import train_test_split\n",
    "\n",
    "from skimage import io\n",
    "from skimage.transform import resize\n",
    "from skimage.color import rgb2gray\n",
    "\n",
    "from PIL import Image\n",
    "\n",
    "import plotly as py"
   ]
  },
  {
   "cell_type": "markdown",
   "metadata": {},
   "source": [
    "### Load in and Explore the Data"
   ]
  },
  {
   "cell_type": "code",
   "execution_count": 2,
   "metadata": {},
   "outputs": [],
   "source": [
    "# load the data\n",
    "sk_data = load_digits()"
   ]
  },
  {
   "cell_type": "code",
   "execution_count": 3,
   "metadata": {},
   "outputs": [
    {
     "data": {
      "text/plain": [
       "array([[ 0.,  0.,  5., 13.,  9.,  1.,  0.,  0.],\n",
       "       [ 0.,  0., 13., 15., 10., 15.,  5.,  0.],\n",
       "       [ 0.,  3., 15.,  2.,  0., 11.,  8.,  0.],\n",
       "       [ 0.,  4., 12.,  0.,  0.,  8.,  8.,  0.],\n",
       "       [ 0.,  5.,  8.,  0.,  0.,  9.,  8.,  0.],\n",
       "       [ 0.,  4., 11.,  0.,  1., 12.,  7.,  0.],\n",
       "       [ 0.,  2., 14.,  5., 10., 12.,  0.,  0.],\n",
       "       [ 0.,  0.,  6., 13., 10.,  0.,  0.,  0.]])"
      ]
     },
     "execution_count": 3,
     "metadata": {},
     "output_type": "execute_result"
    }
   ],
   "source": [
    "sk_data.images[0]\n"
   ]
  },
  {
   "cell_type": "code",
   "execution_count": 5,
   "metadata": {},
   "outputs": [],
   "source": [
    "#Cool slider to browse all of the images.\n",
    "from ipywidgets import interact\n",
    "def browse_images(images, labels, categories):\n",
    "    n = len(images)\n",
    "    def view_image(i):\n",
    "        plt.imshow(images[i], cmap=plt.cm.gray_r, interpolation='nearest')\n",
    "        plt.title('%s' % categories[labels[i]])\n",
    "        plt.axis('off')\n",
    "        plt.show()\n",
    "    interact(view_image, i=(0,n-1))"
   ]
  },
  {
   "cell_type": "code",
   "execution_count": 6,
   "metadata": {},
   "outputs": [
    {
     "data": {
      "application/vnd.jupyter.widget-view+json": {
       "model_id": "5f1bc094b63b4a1bb30a73fa96f785a2",
       "version_major": 2,
       "version_minor": 0
      },
      "text/plain": [
       "interactive(children=(IntSlider(value=898, description='i', max=1796), Output()), _dom_classes=('widget-intera…"
      ]
     },
     "metadata": {},
     "output_type": "display_data"
    }
   ],
   "source": [
    "browse_images(sk_data.images, sk_data.target, sk_data.target_names)"
   ]
  },
  {
   "cell_type": "code",
   "execution_count": 7,
   "metadata": {},
   "outputs": [],
   "source": [
    "# Split up the data in features and labels\n",
    "feature_vectors = sk_data.data\n",
    "class_labels = sk_data.target\n",
    "categories = sk_data.target_names\n",
    "\n",
    "n_samples, n_features = feature_vectors.shape\n",
    "N, h, w = sk_data.images.shape\n",
    "n_classes = len(categories)"
   ]
  },
  {
   "cell_type": "code",
   "execution_count": 9,
   "metadata": {},
   "outputs": [
    {
     "name": "stdout",
     "output_type": "stream",
     "text": [
      "The number of samples are:  1797\n",
      "The number of features are:  64\n",
      "The number of classes are:  10\n",
      "The shape of the image dimensions are:  8  by  8\n"
     ]
    }
   ],
   "source": [
    "# Look at the data\n",
    "print('The number of samples are: ', n_samples)\n",
    "print('The number of features are: ', n_features)\n",
    "print('The number of classes are: ', n_classes)\n",
    "print('The shape of the image dimensions are: ',h, ' by ', w)"
   ]
  },
  {
   "cell_type": "markdown",
   "metadata": {},
   "source": [
    "### Distrubution of the data\n"
   ]
  },
  {
   "cell_type": "code",
   "execution_count": 10,
   "metadata": {},
   "outputs": [
    {
     "data": {
      "image/png": "[encoded data removed]",
      "text/plain": [
       "<Figure size 1008x216 with 1 Axes>"
      ]
     },
     "metadata": {
      "needs_background": "light"
     },
     "output_type": "display_data"
    }
   ],
   "source": [
    "plt.figure(figsize=(14, 3))\n",
    "\n",
    "y_unique = np.unique(class_labels)\n",
    "counts = [(class_labels == i).sum() for i in y_unique]\n",
    "\n",
    "plt.xticks(y_unique,  categories[y_unique])\n",
    "locs, labels = plt.xticks()\n",
    "plt.title('Number of samples per class')\n",
    "plt.xlabel('Class')\n",
    "plt.ylabel('Number of samples')\n",
    "plt.setp(labels, rotation=45, size=20)\n",
    "_ = plt.bar(y_unique, counts)"
   ]
  },
  {
   "cell_type": "markdown",
   "metadata": {},
   "source": [
    "## Split into train and test data sets"
   ]
  },
  {
   "cell_type": "code",
   "execution_count": 11,
   "metadata": {},
   "outputs": [
    {
     "name": "stdout",
     "output_type": "stream",
     "text": [
      "The number of training samples are:  1347\n",
      "The number of testing samples are:  450\n"
     ]
    }
   ],
   "source": [
    "# Split into a training set and a testing set\n",
    "train_vectors,test_vectors,train_labels,test_labels = train_test_split(feature_vectors,class_labels,train_size=.75)\n",
    "\n",
    "print('The number of training samples are: ', train_vectors.shape[0])\n",
    "print('The number of testing samples are: ', test_vectors.shape[0])"
   ]
  },
  {
   "cell_type": "markdown",
   "metadata": {},
   "source": [
    "## Training the classifier "
   ]
  },
  {
   "cell_type": "code",
   "execution_count": 21,
   "metadata": {},
   "outputs": [
    {
     "name": "stdout",
     "output_type": "stream",
     "text": [
      "Fitting the classifier to the training set\n",
      "Best estimator found by grid search:\n",
      "SVC(C=1000.0, class_weight='balanced', gamma=0.0001, kernel='linear')\n",
      "Runtime 6.9993181228637695\n"
     ]
    }
   ],
   "source": [
    "# Train a SVM classification model\n",
    "\n",
    "# count time taken to train\n",
    "start = time.time()\n",
    "\n",
    "# temporary variables \n",
    "tmp_vectors = train_vectors\n",
    "tmp_labels = train_labels\n",
    "\n",
    "print(\"Fitting the classifier to the training set\")\n",
    "# a dictionary of hyperparameters: key is the name of the parameter, value is a list of values to test\n",
    "param_grid = {'C': [1e3, 5e3, 1e4, 5e4, 1e5],\n",
    "              'gamma': [0.0001, 0.0005, 0.001, 0.005, 0.01, 0.1], }\n",
    "# make a classifier by searching over a classifier and the parameter grid\n",
    "# this is an exgustive search over all possible combinations of parameters\n",
    "# the best combination is found by cross-validation\n",
    "clf = GridSearchCV(SVC(kernel='linear', class_weight='balanced'), param_grid)\n",
    "\n",
    "# we have a \"good\" classifier (according to GridSearchCV), how's it look\n",
    "clf = clf.fit(tmp_vectors, tmp_labels)\n",
    "print(\"Best estimator found by grid search:\")\n",
    "print(clf.best_estimator_)\n",
    "\n",
    "end = time.time()\n",
    "print(\"Runtime\",end - start)"
   ]
  },
  {
   "cell_type": "markdown",
   "metadata": {},
   "source": [
    "## Result of classification "
   ]
  },
  {
   "cell_type": "code",
   "execution_count": 22,
   "metadata": {},
   "outputs": [
    {
     "name": "stdout",
     "output_type": "stream",
     "text": [
      "Predicting names on the test set\n",
      "              precision    recall  f1-score   support\n",
      "\n",
      "           0       1.00      1.00      1.00        51\n",
      "           1       0.96      0.96      0.96        50\n",
      "           2       1.00      1.00      1.00        42\n",
      "           3       1.00      0.93      0.97        45\n",
      "           4       0.98      0.98      0.98        53\n",
      "           5       0.90      0.98      0.94        46\n",
      "           6       1.00      1.00      1.00        38\n",
      "           7       0.97      1.00      0.99        39\n",
      "           8       0.96      0.96      0.96        49\n",
      "           9       0.97      0.92      0.94        37\n",
      "\n",
      "    accuracy                           0.97       450\n",
      "   macro avg       0.97      0.97      0.97       450\n",
      "weighted avg       0.97      0.97      0.97       450\n",
      "\n",
      "[[51  0  0  0  0  0  0  0  0  0]\n",
      " [ 0 48  0  0  1  0  0  0  1  0]\n",
      " [ 0  0 42  0  0  0  0  0  0  0]\n",
      " [ 0  0  0 42  0  3  0  0  0  0]\n",
      " [ 0  0  0  0 52  0  0  1  0  0]\n",
      " [ 0  0  0  0  0 45  0  0  0  1]\n",
      " [ 0  0  0  0  0  0 38  0  0  0]\n",
      " [ 0  0  0  0  0  0  0 39  0  0]\n",
      " [ 0  2  0  0  0  0  0  0 47  0]\n",
      " [ 0  0  0  0  0  2  0  0  1 34]]\n"
     ]
    }
   ],
   "source": [
    "# Quantitative evaluation of the model quality on the test set\n",
    "\n",
    "#make some temporary variables so you can change this easily\n",
    "predict_vectors = test_vectors\n",
    "true_labels = test_labels\n",
    "\n",
    "print(\"Predicting names on the test set\")\n",
    "pred_labels = clf.predict(predict_vectors)\n",
    "\n",
    "print(classification_report(true_labels, pred_labels))\n",
    "print(confusion_matrix(true_labels, pred_labels, labels=range(n_classes)))\n",
    "svc_accuracy = clf.score(predict_vectors, true_labels)"
   ]
  },
  {
   "cell_type": "code",
   "execution_count": 19,
   "metadata": {},
   "outputs": [
    {
     "name": "stdout",
     "output_type": "stream",
     "text": [
      "Classification report for KNN classifier:\n",
      "              precision    recall  f1-score   support\n",
      "\n",
      "           0       1.00      1.00      1.00        51\n",
      "           1       0.96      1.00      0.98        50\n",
      "           2       1.00      0.98      0.99        42\n",
      "           3       0.98      0.98      0.98        45\n",
      "           4       1.00      0.98      0.99        53\n",
      "           5       0.98      0.98      0.98        46\n",
      "           6       1.00      1.00      1.00        38\n",
      "           7       0.97      1.00      0.99        39\n",
      "           8       1.00      0.94      0.97        49\n",
      "           9       0.95      1.00      0.97        37\n",
      "\n",
      "    accuracy                           0.98       450\n",
      "   macro avg       0.98      0.99      0.98       450\n",
      "weighted avg       0.98      0.98      0.98       450\n",
      "\n"
     ]
    }
   ],
   "source": [
    "# Train a KNN classification model\n",
    "knn = KNeighborsClassifier(n_neighbors=5)\n",
    "knn.fit(train_vectors, train_labels)\n",
    "\n",
    "# KNN stats\n",
    "print(\"Classification report for KNN classifier:\")\n",
    "print(classification_report(test_labels, knn.predict(test_vectors)))\n",
    "knn_accuracy = knn.score(test_vectors, test_labels)\n"
   ]
  },
  {
   "cell_type": "code",
   "execution_count": 18,
   "metadata": {},
   "outputs": [
    {
     "name": "stdout",
     "output_type": "stream",
     "text": [
      "Classification report for Naive Bayes classifier:\n",
      "              precision    recall  f1-score   support\n",
      "\n",
      "           0       1.00      0.98      0.99        51\n",
      "           1       0.89      0.78      0.83        50\n",
      "           2       1.00      0.62      0.76        42\n",
      "           3       0.87      0.73      0.80        45\n",
      "           4       1.00      0.83      0.91        53\n",
      "           5       0.93      0.91      0.92        46\n",
      "           6       0.97      1.00      0.99        38\n",
      "           7       0.67      1.00      0.80        39\n",
      "           8       0.56      0.94      0.70        49\n",
      "           9       0.92      0.59      0.72        37\n",
      "\n",
      "    accuracy                           0.84       450\n",
      "   macro avg       0.88      0.84      0.84       450\n",
      "weighted avg       0.88      0.84      0.85       450\n",
      "\n"
     ]
    }
   ],
   "source": [
    "# Use Naive Bayes to classify the data\n",
    "from sklearn.naive_bayes import GaussianNB\n",
    "gnb = GaussianNB()\n",
    "gnb.fit(train_vectors, train_labels)\n",
    "\n",
    "# Naive Bayes stats\n",
    "print(\"Classification report for Naive Bayes classifier:\")\n",
    "print(classification_report(test_labels, gnb.predict(test_vectors)))\n",
    "naive_bayes_accuracy = gnb.score(test_vectors, test_labels)\n"
   ]
  },
  {
   "cell_type": "code",
   "execution_count": 14,
   "metadata": {},
   "outputs": [
    {
     "name": "stdout",
     "output_type": "stream",
     "text": [
      "Classification report for Bayes Net classifier:\n",
      "              precision    recall  f1-score   support\n",
      "\n",
      "           0       1.00      0.98      0.99        51\n",
      "           1       0.68      0.46      0.55        50\n",
      "           2       0.82      0.88      0.85        42\n",
      "           3       0.93      0.87      0.90        45\n",
      "           4       0.93      0.94      0.93        53\n",
      "           5       0.90      0.83      0.86        46\n",
      "           6       0.92      0.95      0.94        38\n",
      "           7       0.84      0.97      0.90        39\n",
      "           8       0.68      0.80      0.74        49\n",
      "           9       0.69      0.78      0.73        37\n",
      "\n",
      "    accuracy                           0.84       450\n",
      "   macro avg       0.84      0.85      0.84       450\n",
      "weighted avg       0.84      0.84      0.84       450\n",
      "\n"
     ]
    }
   ],
   "source": [
    "# Use Bayes Net to classify the data\n",
    "from sklearn.naive_bayes import BernoulliNB\n",
    "bnb = BernoulliNB()\n",
    "bnb.fit(train_vectors, train_labels)\n",
    "\n",
    "# Bayes Net stats\n",
    "print(\"Classification report for Bayes Net classifier:\")\n",
    "print(classification_report(test_labels, bnb.predict(test_vectors)))\n",
    "bnb_accuracy = bnb.score(test_vectors, test_labels)"
   ]
  },
  {
   "cell_type": "code",
   "execution_count": 16,
   "metadata": {},
   "outputs": [
    {
     "name": "stdout",
     "output_type": "stream",
     "text": [
      "Classification report for Decision Tree classifier:\n",
      "              precision    recall  f1-score   support\n",
      "\n",
      "           0       0.89      0.92      0.90        51\n",
      "           1       0.82      0.82      0.82        50\n",
      "           2       0.92      0.83      0.88        42\n",
      "           3       0.83      0.87      0.85        45\n",
      "           4       0.85      0.87      0.86        53\n",
      "           5       0.95      0.89      0.92        46\n",
      "           6       0.92      0.89      0.91        38\n",
      "           7       0.72      0.92      0.81        39\n",
      "           8       0.83      0.69      0.76        49\n",
      "           9       0.81      0.81      0.81        37\n",
      "\n",
      "    accuracy                           0.85       450\n",
      "   macro avg       0.85      0.85      0.85       450\n",
      "weighted avg       0.86      0.85      0.85       450\n",
      "\n"
     ]
    }
   ],
   "source": [
    "# Use Decision Tree to classify the data\n",
    "from sklearn.tree import DecisionTreeClassifier\n",
    "dtc = DecisionTreeClassifier()\n",
    "dtc.fit(train_vectors, train_labels)\n",
    "\n",
    "# Decision Tree stats\n",
    "print(\"Classification report for Decision Tree classifier:\")\n",
    "print(classification_report(test_labels, dtc.predict(test_vectors)))\n",
    "dtc_accuracy = dtc.score(test_vectors, test_labels)"
   ]
  },
  {
   "cell_type": "code",
   "execution_count": 17,
   "metadata": {},
   "outputs": [
    {
     "name": "stdout",
     "output_type": "stream",
     "text": [
      "Classification report for J48 classifier:\n",
      "              precision    recall  f1-score   support\n",
      "\n",
      "           0       0.93      0.98      0.95        51\n",
      "           1       0.82      0.80      0.81        50\n",
      "           2       0.89      0.81      0.85        42\n",
      "           3       0.90      0.84      0.87        45\n",
      "           4       0.86      0.91      0.88        53\n",
      "           5       0.89      0.89      0.89        46\n",
      "           6       0.89      0.89      0.89        38\n",
      "           7       0.74      0.90      0.81        39\n",
      "           8       0.83      0.71      0.77        49\n",
      "           9       0.79      0.81      0.80        37\n",
      "\n",
      "    accuracy                           0.86       450\n",
      "   macro avg       0.86      0.85      0.85       450\n",
      "weighted avg       0.86      0.86      0.85       450\n",
      "\n"
     ]
    }
   ],
   "source": [
    "# Use J48 to classify the data\n",
    "from sklearn.tree import DecisionTreeClassifier\n",
    "j48 = DecisionTreeClassifier()\n",
    "j48.fit(train_vectors, train_labels)\n",
    "\n",
    "# J48 stats\n",
    "print(\"Classification report for J48 classifier:\")\n",
    "print(classification_report(test_labels, j48.predict(test_vectors)))\n",
    "j48_accuracy = j48.score(test_vectors, test_labels)"
   ]
  },
  {
   "cell_type": "code",
   "execution_count": 23,
   "metadata": {},
   "outputs": [
    {
     "name": "stdout",
     "output_type": "stream",
     "text": [
      "Classification report for Random Forest classifier:\n",
      "              precision    recall  f1-score   support\n",
      "\n",
      "           0       0.98      1.00      0.99        51\n",
      "           1       0.96      1.00      0.98        50\n",
      "           2       1.00      1.00      1.00        42\n",
      "           3       1.00      0.91      0.95        45\n",
      "           4       1.00      0.98      0.99        53\n",
      "           5       0.94      0.98      0.96        46\n",
      "           6       1.00      0.97      0.99        38\n",
      "           7       0.95      1.00      0.97        39\n",
      "           8       0.94      0.96      0.95        49\n",
      "           9       1.00      0.95      0.97        37\n",
      "\n",
      "    accuracy                           0.98       450\n",
      "   macro avg       0.98      0.97      0.98       450\n",
      "weighted avg       0.98      0.98      0.98       450\n",
      "\n"
     ]
    }
   ],
   "source": [
    "# Use Random Forest to classify the data\n",
    "from sklearn.ensemble import RandomForestClassifier\n",
    "rfc = RandomForestClassifier()\n",
    "rfc.fit(train_vectors, train_labels)\n",
    "\n",
    "# Random Forest stats\n",
    "print(\"Classification report for Random Forest classifier:\")\n",
    "print(classification_report(test_labels, rfc.predict(test_vectors)))\n",
    "rfc_accuracy = rfc.score(test_vectors, test_labels)"
   ]
  },
  {
   "cell_type": "markdown",
   "metadata": {},
   "source": [
    "## Graph results of each classifier "
   ]
  },
  {
   "cell_type": "code",
   "execution_count": 30,
   "metadata": {},
   "outputs": [
    {
     "data": {
      "application/vnd.plotly.v1+json": {
       "config": {
        "plotlyServerURL": "https://plot.ly"
       },
       "data": [
        {
         "name": "SVC",
         "type": "bar",
         "x": [
          "SVC"
         ],
         "y": [
          0.9733333333333334
         ]
        },
        {
         "name": "KNN",
         "type": "bar",
         "x": [
          "KNN"
         ],
         "y": [
          0.9844444444444445
         ]
        },
        {
         "name": "Naive Bayes",
         "type": "bar",
         "x": [
          "Naive Bayes"
         ],
         "y": [
          0.8422222222222222
         ]
        },
        {
         "name": "Bayes Net",
         "type": "bar",
         "x": [
          "Bayes Net"
         ],
         "y": [
          0.8422222222222222
         ]
        },
        {
         "name": "Decision Tree",
         "type": "bar",
         "x": [
          "Decision Tree"
         ],
         "y": [
          0.8511111111111112
         ]
        },
        {
         "name": "J48",
         "type": "bar",
         "x": [
          "J48"
         ],
         "y": [
          0.8555555555555555
         ]
        },
        {
         "name": "Random Forest",
         "type": "bar",
         "x": [
          "Random Forest"
         ],
         "y": [
          0.9755555555555555
         ]
        }
       ],
       "layout": {
        "barmode": "group",
        "template": {
         "data": {
          "bar": [
           {
            "error_x": {
             "color": "#2a3f5f"
            },
            "error_y": {
             "color": "#2a3f5f"
            },
            "marker": {
             "line": {
              "color": "#E5ECF6",
              "width": 0.5
             },
             "pattern": {
              "fillmode": "overlay",
              "size": 10,
              "solidity": 0.2
             }
            },
            "type": "bar"
           }
          ],
          "barpolar": [
           {
            "marker": {
             "line": {
              "color": "#E5ECF6",
              "width": 0.5
             },
             "pattern": {
              "fillmode": "overlay",
              "size": 10,
              "solidity": 0.2
             }
            },
            "type": "barpolar"
           }
          ],
          "carpet": [
           {
            "aaxis": {
             "endlinecolor": "#2a3f5f",
             "gridcolor": "white",
             "linecolor": "white",
             "minorgridcolor": "white",
             "startlinecolor": "#2a3f5f"
            },
            "baxis": {
             "endlinecolor": "#2a3f5f",
             "gridcolor": "white",
             "linecolor": "white",
             "minorgridcolor": "white",
             "startlinecolor": "#2a3f5f"
            },
            "type": "carpet"
           }
          ],
          "choropleth": [
           {
            "colorbar": {
             "outlinewidth": 0,
             "ticks": ""
            },
            "type": "choropleth"
           }
          ],
          "contour": [
           {
            "colorbar": {
             "outlinewidth": 0,
             "ticks": ""
            },
            "colorscale": [
             [
              0,
              "#0d0887"
             ],
             [
              0.1111111111111111,
              "#46039f"
             ],
             [
              0.2222222222222222,
              "#7201a8"
             ],
             [
              0.3333333333333333,
              "#9c179e"
             ],
             [
              0.4444444444444444,
              "#bd3786"
             ],
             [
              0.5555555555555556,
              "#d8576b"
             ],
             [
              0.6666666666666666,
              "#ed7953"
             ],
             [
              0.7777777777777778,
              "#fb9f3a"
             ],
             [
              0.8888888888888888,
              "#fdca26"
             ],
             [
              1,
              "#f0f921"
             ]
            ],
            "type": "contour"
           }
          ],
          "contourcarpet": [
           {
            "colorbar": {
             "outlinewidth": 0,
             "ticks": ""
            },
            "type": "contourcarpet"
           }
          ],
          "heatmap": [
           {
            "colorbar": {
             "outlinewidth": 0,
             "ticks": ""
            },
            "colorscale": [
             [
              0,
              "#0d0887"
             ],
             [
              0.1111111111111111,
              "#46039f"
             ],
             [
              0.2222222222222222,
              "#7201a8"
             ],
             [
              0.3333333333333333,
              "#9c179e"
             ],
             [
              0.4444444444444444,
              "#bd3786"
             ],
             [
              0.5555555555555556,
              "#d8576b"
             ],
             [
              0.6666666666666666,
              "#ed7953"
             ],
             [
              0.7777777777777778,
              "#fb9f3a"
             ],
             [
              0.8888888888888888,
              "#fdca26"
             ],
             [
              1,
              "#f0f921"
             ]
            ],
            "type": "heatmap"
           }
          ],
          "heatmapgl": [
           {
            "colorbar": {
             "outlinewidth": 0,
             "ticks": ""
            },
            "colorscale": [
             [
              0,
              "#0d0887"
             ],
             [
              0.1111111111111111,
              "#46039f"
             ],
             [
              0.2222222222222222,
              "#7201a8"
             ],
             [
              0.3333333333333333,
              "#9c179e"
             ],
             [
              0.4444444444444444,
              "#bd3786"
             ],
             [
              0.5555555555555556,
              "#d8576b"
             ],
             [
              0.6666666666666666,
              "#ed7953"
             ],
             [
              0.7777777777777778,
              "#fb9f3a"
             ],
             [
              0.8888888888888888,
              "#fdca26"
             ],
             [
              1,
              "#f0f921"
             ]
            ],
            "type": "heatmapgl"
           }
          ],
          "histogram": [
           {
            "marker": {
             "pattern": {
              "fillmode": "overlay",
              "size": 10,
              "solidity": 0.2
             }
            },
            "type": "histogram"
           }
          ],
          "histogram2d": [
           {
            "colorbar": {
             "outlinewidth": 0,
             "ticks": ""
            },
            "colorscale": [
             [
              0,
              "#0d0887"
             ],
             [
              0.1111111111111111,
              "#46039f"
             ],
             [
              0.2222222222222222,
              "#7201a8"
             ],
             [
              0.3333333333333333,
              "#9c179e"
             ],
             [
              0.4444444444444444,
              "#bd3786"
             ],
             [
              0.5555555555555556,
              "#d8576b"
             ],
             [
              0.6666666666666666,
              "#ed7953"
             ],
             [
              0.7777777777777778,
              "#fb9f3a"
             ],
             [
              0.8888888888888888,
              "#fdca26"
             ],
             [
              1,
              "#f0f921"
             ]
            ],
            "type": "histogram2d"
           }
          ],
          "histogram2dcontour": [
           {
            "colorbar": {
             "outlinewidth": 0,
             "ticks": ""
            },
            "colorscale": [
             [
              0,
              "#0d0887"
             ],
             [
              0.1111111111111111,
              "#46039f"
             ],
             [
              0.2222222222222222,
              "#7201a8"
             ],
             [
              0.3333333333333333,
              "#9c179e"
             ],
             [
              0.4444444444444444,
              "#bd3786"
             ],
             [
              0.5555555555555556,
              "#d8576b"
             ],
             [
              0.6666666666666666,
              "#ed7953"
             ],
             [
              0.7777777777777778,
              "#fb9f3a"
             ],
             [
              0.8888888888888888,
              "#fdca26"
             ],
             [
              1,
              "#f0f921"
             ]
            ],
            "type": "histogram2dcontour"
           }
          ],
          "mesh3d": [
           {
            "colorbar": {
             "outlinewidth": 0,
             "ticks": ""
            },
            "type": "mesh3d"
           }
          ],
          "parcoords": [
           {
            "line": {
             "colorbar": {
              "outlinewidth": 0,
              "ticks": ""
             }
            },
            "type": "parcoords"
           }
          ],
          "pie": [
           {
            "automargin": true,
            "type": "pie"
           }
          ],
          "scatter": [
           {
            "fillpattern": {
             "fillmode": "overlay",
             "size": 10,
             "solidity": 0.2
            },
            "type": "scatter"
           }
          ],
          "scatter3d": [
           {
            "line": {
             "colorbar": {
              "outlinewidth": 0,
              "ticks": ""
             }
            },
            "marker": {
             "colorbar": {
              "outlinewidth": 0,
              "ticks": ""
             }
            },
            "type": "scatter3d"
           }
          ],
          "scattercarpet": [
           {
            "marker": {
             "colorbar": {
              "outlinewidth": 0,
              "ticks": ""
             }
            },
            "type": "scattercarpet"
           }
          ],
          "scattergeo": [
           {
            "marker": {
             "colorbar": {
              "outlinewidth": 0,
              "ticks": ""
             }
            },
            "type": "scattergeo"
           }
          ],
          "scattergl": [
           {
            "marker": {
             "colorbar": {
              "outlinewidth": 0,
              "ticks": ""
             }
            },
            "type": "scattergl"
           }
          ],
          "scattermapbox": [
           {
            "marker": {
             "colorbar": {
              "outlinewidth": 0,
              "ticks": ""
             }
            },
            "type": "scattermapbox"
           }
          ],
          "scatterpolar": [
           {
            "marker": {
             "colorbar": {
              "outlinewidth": 0,
              "ticks": ""
             }
            },
            "type": "scatterpolar"
           }
          ],
          "scatterpolargl": [
           {
            "marker": {
             "colorbar": {
              "outlinewidth": 0,
              "ticks": ""
             }
            },
            "type": "scatterpolargl"
           }
          ],
          "scatterternary": [
           {
            "marker": {
             "colorbar": {
              "outlinewidth": 0,
              "ticks": ""
             }
            },
            "type": "scatterternary"
           }
          ],
          "surface": [
           {
            "colorbar": {
             "outlinewidth": 0,
             "ticks": ""
            },
            "colorscale": [
             [
              0,
              "#0d0887"
             ],
             [
              0.1111111111111111,
              "#46039f"
             ],
             [
              0.2222222222222222,
              "#7201a8"
             ],
             [
              0.3333333333333333,
              "#9c179e"
             ],
             [
              0.4444444444444444,
              "#bd3786"
             ],
             [
              0.5555555555555556,
              "#d8576b"
             ],
             [
              0.6666666666666666,
              "#ed7953"
             ],
             [
              0.7777777777777778,
              "#fb9f3a"
             ],
             [
              0.8888888888888888,
              "#fdca26"
             ],
             [
              1,
              "#f0f921"
             ]
            ],
            "type": "surface"
           }
          ],
          "table": [
           {
            "cells": {
             "fill": {
              "color": "#EBF0F8"
             },
             "line": {
              "color": "white"
             }
            },
            "header": {
             "fill": {
              "color": "#C8D4E3"
             },
             "line": {
              "color": "white"
             }
            },
            "type": "table"
           }
          ]
         },
         "layout": {
          "annotationdefaults": {
           "arrowcolor": "#2a3f5f",
           "arrowhead": 0,
           "arrowwidth": 1
          },
          "autotypenumbers": "strict",
          "coloraxis": {
           "colorbar": {
            "outlinewidth": 0,
            "ticks": ""
           }
          },
          "colorscale": {
           "diverging": [
            [
             0,
             "#8e0152"
            ],
            [
             0.1,
             "#c51b7d"
            ],
            [
             0.2,
             "#de77ae"
            ],
            [
             0.3,
             "#f1b6da"
            ],
            [
             0.4,
             "#fde0ef"
            ],
            [
             0.5,
             "#f7f7f7"
            ],
            [
             0.6,
             "#e6f5d0"
            ],
            [
             0.7,
             "#b8e186"
            ],
            [
             0.8,
             "#7fbc41"
            ],
            [
             0.9,
             "#4d9221"
            ],
            [
             1,
             "#276419"
            ]
           ],
           "sequential": [
            [
             0,
             "#0d0887"
            ],
            [
             0.1111111111111111,
             "#46039f"
            ],
            [
             0.2222222222222222,
             "#7201a8"
            ],
            [
             0.3333333333333333,
             "#9c179e"
            ],
            [
             0.4444444444444444,
             "#bd3786"
            ],
            [
             0.5555555555555556,
             "#d8576b"
            ],
            [
             0.6666666666666666,
             "#ed7953"
            ],
            [
             0.7777777777777778,
             "#fb9f3a"
            ],
            [
             0.8888888888888888,
             "#fdca26"
            ],
            [
             1,
             "#f0f921"
            ]
           ],
           "sequentialminus": [
            [
             0,
             "#0d0887"
            ],
            [
             0.1111111111111111,
             "#46039f"
            ],
            [
             0.2222222222222222,
             "#7201a8"
            ],
            [
             0.3333333333333333,
             "#9c179e"
            ],
            [
             0.4444444444444444,
             "#bd3786"
            ],
            [
             0.5555555555555556,
             "#d8576b"
            ],
            [
             0.6666666666666666,
             "#ed7953"
            ],
            [
             0.7777777777777778,
             "#fb9f3a"
            ],
            [
             0.8888888888888888,
             "#fdca26"
            ],
            [
             1,
             "#f0f921"
            ]
           ]
          },
          "colorway": [
           "#636efa",
           "#EF553B",
           "#00cc96",
           "#ab63fa",
           "#FFA15A",
           "#19d3f3",
           "#FF6692",
           "#B6E880",
           "#FF97FF",
           "#FECB52"
          ],
          "font": {
           "color": "#2a3f5f"
          },
          "geo": {
           "bgcolor": "white",
           "lakecolor": "white",
           "landcolor": "#E5ECF6",
           "showlakes": true,
           "showland": true,
           "subunitcolor": "white"
          },
          "hoverlabel": {
           "align": "left"
          },
          "hovermode": "closest",
          "mapbox": {
           "style": "light"
          },
          "paper_bgcolor": "white",
          "plot_bgcolor": "#E5ECF6",
          "polar": {
           "angularaxis": {
            "gridcolor": "white",
            "linecolor": "white",
            "ticks": ""
           },
           "bgcolor": "#E5ECF6",
           "radialaxis": {
            "gridcolor": "white",
            "linecolor": "white",
            "ticks": ""
           }
          },
          "scene": {
           "xaxis": {
            "backgroundcolor": "#E5ECF6",
            "gridcolor": "white",
            "gridwidth": 2,
            "linecolor": "white",
            "showbackground": true,
            "ticks": "",
            "zerolinecolor": "white"
           },
           "yaxis": {
            "backgroundcolor": "#E5ECF6",
            "gridcolor": "white",
            "gridwidth": 2,
            "linecolor": "white",
            "showbackground": true,
            "ticks": "",
            "zerolinecolor": "white"
           },
           "zaxis": {
            "backgroundcolor": "#E5ECF6",
            "gridcolor": "white",
            "gridwidth": 2,
            "linecolor": "white",
            "showbackground": true,
            "ticks": "",
            "zerolinecolor": "white"
           }
          },
          "shapedefaults": {
           "line": {
            "color": "#2a3f5f"
           }
          },
          "ternary": {
           "aaxis": {
            "gridcolor": "white",
            "linecolor": "white",
            "ticks": ""
           },
           "baxis": {
            "gridcolor": "white",
            "linecolor": "white",
            "ticks": ""
           },
           "bgcolor": "#E5ECF6",
           "caxis": {
            "gridcolor": "white",
            "linecolor": "white",
            "ticks": ""
           }
          },
          "title": {
           "x": 0.05
          },
          "xaxis": {
           "automargin": true,
           "gridcolor": "white",
           "linecolor": "white",
           "ticks": "",
           "title": {
            "standoff": 15
           },
           "zerolinecolor": "white",
           "zerolinewidth": 2
          },
          "yaxis": {
           "automargin": true,
           "gridcolor": "white",
           "linecolor": "white",
           "ticks": "",
           "title": {
            "standoff": 15
           },
           "zerolinecolor": "white",
           "zerolinewidth": 2
          }
         }
        }
       }
      }
     },
     "metadata": {},
     "output_type": "display_data"
    }
   ],
   "source": [
    "# Plotly bar chat of accuracy\n",
    "import plotly.express as px\n",
    "import plotly.graph_objs as go\n",
    "\n",
    "fig = go.Figure(data=[\n",
    "    go.Bar(name='SVC', x=['SVC'], y=[svc_accuracy]),\n",
    "    go.Bar(name='KNN', x=['KNN'], y=[knn_accuracy]),\n",
    "    go.Bar(name='Naive Bayes', x=['Naive Bayes'], y=[naive_bayes_accuracy]),\n",
    "    go.Bar(name='Bayes Net', x=['Bayes Net'], y=[bnb_accuracy]),\n",
    "    go.Bar(name='Decision Tree', x=['Decision Tree'], y=[dtc_accuracy]),\n",
    "    go.Bar(name='J48', x=['J48'], y=[j48_accuracy]),\n",
    "    go.Bar(name='Random Forest', x=['Random Forest'], y=[rfc_accuracy])\n",
    "])\n",
    "# Change the bar mode\n",
    "fig.update_layout(barmode='group')\n",
    "fig.show()\n",
    "\n",
    "\n"
   ]
  },
  {
   "cell_type": "code",
   "execution_count": null,
   "metadata": {},
   "outputs": [],
   "source": []
  },
  {
   "cell_type": "markdown",
   "metadata": {},
   "source": [
    "## Testing My Hand written numbers  (NOT DONE NEEDS WORK)"
   ]
  },
  {
   "cell_type": "markdown",
   "metadata": {},
   "source": [
    "### CLF "
   ]
  },
  {
   "cell_type": "code",
   "execution_count": null,
   "metadata": {},
   "outputs": [],
   "source": [
    "# Predict the value of the test vectors\n",
    "predicted = clf.predict(test_vectors)\n",
    "\n",
    "\n",
    "# test a new image\n",
    "\n",
    "# load image from folder\n",
    "test_image_7 = io.imread('Screen Shot 2022-09-22 at 10.12.00 PM.png')\n",
    "test_image_5 = io.imread('Screen Shot 2022-09-26 at 5.10.56 PM.png')\n",
    "test_image_8 = io.imread('Screen Shot 2022-09-26 at 5.29.16 PM.png')\n",
    "\n",
    "# convert to grayscale\n",
    "#test_image = rgb2gray(test_image)\n",
    "# resize to 8x8\n",
    "test_image = resize(test_image_7, (8, 8))\n",
    "test_image3 = resize(test_image_5, (8, 8))\n",
    "test_image4 = resize(test_image_8, (8, 8))\n",
    "\n",
    "# convert to vector\n",
    "#test_image = test_image.reshape(1, -1)\n",
    "print(test_image.shape)\n",
    "\n",
    "\n",
    "\n",
    "plt.imshow(test_image4)\n",
    "plt.show()\n",
    "# Make shape from 8x8x4 to 8x8\n",
    "test_image4 = test_image4[:,:,0]\n",
    "\n",
    "# predict test image\n",
    "predicted = clf.predict(test_image4.reshape(1, -1))\n",
    "print(predicted)\n",
    "# show the image\n",
    "plt.imshow(test_image4, cmap=plt.cm.gray_r, interpolation='nearest')\n",
    "plt.title('%s' % categories[predicted[0]])\n",
    "plt.axis('off')\n",
    "\n",
    "predicted\n"
   ]
  },
  {
   "cell_type": "code",
   "execution_count": null,
   "metadata": {},
   "outputs": [],
   "source": []
  },
  {
   "cell_type": "markdown",
   "metadata": {},
   "source": [
    "# Using KNN"
   ]
  },
  {
   "cell_type": "code",
   "execution_count": null,
   "metadata": {},
   "outputs": [],
   "source": [
    "# test knn model \n",
    "test_image_8 = io.imread('Screen Shot 2022-09-26 at 5.29.16 PM.png')\n",
    "test_image8 = resize(test_image_8, (8, 8))\n",
    "# Make shape from 8x8x4 to 8x8\n",
    "test_image8 = test_image8[:,:,0]\n",
    "print(test_image8.reshape(1, -1))\n",
    "\n",
    "knn_predicted = knn.predict(test_image8.reshape(1, -1))\n",
    "# show the image\n",
    "plt.imshow(test_image8, cmap=plt.cm.gray_r, interpolation='nearest')\n",
    "plt.title('%s' % categories[knn_predicted[0]])\n",
    "plt.axis('off')\n",
    "\n",
    "\n",
    "\n",
    "test_image_5 = io.imread('Screen Shot 2022-09-26 at 5.10.56 PM.png')\n",
    "test_image5 = resize(test_image_5, (8, 8))\n",
    "# Make shape from 8x8x4 to 8x8\n",
    "test_image5 = test_image5[:,:,0]\n",
    "knn_predicted2 = knn.predict(test_image5.reshape(1, -1))\n",
    "# show the image\n",
    "plt.imshow(test_image5, cmap=plt.cm.gray_r, interpolation='nearest')\n",
    "plt.title('%s' % categories[knn_predicted2[0]])\n",
    "plt.axis('off')\n"
   ]
  },
  {
   "cell_type": "code",
   "execution_count": null,
   "metadata": {},
   "outputs": [],
   "source": []
  },
  {
   "cell_type": "code",
   "execution_count": null,
   "metadata": {},
   "outputs": [],
   "source": []
  }
 ],
 "metadata": {
  "kernelspec": {
   "display_name": "Python 3.8.13 ('CSE801')",
   "language": "python",
   "name": "python3"
  },
  "language_info": {
   "codemirror_mode": {
    "name": "ipython",
    "version": 3
   },
   "file_extension": ".py",
   "mimetype": "text/x-python",
   "name": "python",
   "nbconvert_exporter": "python",
   "pygments_lexer": "ipython3",
   "version": "3.8.13"
  },
  "orig_nbformat": 4,
  "vscode": {
   "interpreter": {
    "hash": "6e9b9219b93f1c21c11fcbc19831fe7fc38a3c0bcfd3de04f7507370bfe6459a"
   }
  }
 },
 "nbformat": 4,
 "nbformat_minor": 2
}
